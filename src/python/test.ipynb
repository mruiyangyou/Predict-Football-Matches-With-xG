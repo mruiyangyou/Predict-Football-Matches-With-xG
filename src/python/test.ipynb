{
 "cells": [
  {
   "cell_type": "code",
   "execution_count": 10,
   "metadata": {},
   "outputs": [],
   "source": [
    "import pandas as pd\n",
    "import numpy as np\n",
    "import seaborn as sns\n",
    "from sklearn import *\n",
    "import seaborn as sns\n",
    "import random\n",
    "import scipy\n",
    "from utils import *\n",
    "from patsy import dmatrices\n",
    "import re\n",
    "import datetime\n",
    "import asyncio\n",
    "import json\n",
    "import aiohttp\n",
    "from understat import Understat\n",
    "import pandas as pd\n",
    "import numpy as np\n",
    "import matplotlib.pyplot as plt\n",
    "import seaborn as sns\n",
    "from sklearn import *\n",
    "import nest_asyncio\n",
    "nest_asyncio.apply()"
   ]
  },
  {
   "cell_type": "code",
   "execution_count": 18,
   "metadata": {},
   "outputs": [],
   "source": [
    "def Constrcut_df_from_results(li):\n",
    "\n",
    "    col_name = ['id', 'datetime', 'result', 'team', 'team_xG', 'team_score', 'team_conced','home', 'opponent', 'oppo_xG']\n",
    "    id, datetime, result, team, team_xG, goal_score, goal_conced, home, opponent, oppo_xG = [], [], [], [], [], [], [], [], [], []\n",
    "    for game in li:\n",
    "        id.append(game['id'])\n",
    "        opo_side = 'a' if game['side'] == 'h' else 'h'\n",
    "        opponent.append(game[opo_side]['title'])\n",
    "        team.append(game[game['side']]['title'])\n",
    "        home.append(0 if game['side'] == 'h' else 1)\n",
    "        result.append(game['result'])\n",
    "        team_xG.append(game['xG'][game['side']])\n",
    "        datetime.append(game['datetime'])\n",
    "        goal_score.append(game['goals'][game['side']])\n",
    "        goal_conced.append(game['goals'][opo_side])\n",
    "        oppo_xG.append(game['xG'][opo_side])\n",
    "    data_list = [id, datetime, result, team, team_xG, goal_score, goal_conced, home, opponent, oppo_xG]\n",
    "    df = pd.DataFrame({col_name: col for col_name, col in zip(col_name, data_list)})\n",
    "    df['oppo_score'] = df['team_conced']\n",
    "    df['oppo_conced'] = df['team_score']\n",
    "    df['oppo_home'] = df['home'].apply(lambda x: 1 if x == 0 else 1)\n",
    "    return df"
   ]
  },
  {
   "cell_type": "code",
   "execution_count": 19,
   "metadata": {},
   "outputs": [],
   "source": [
    "data = get_match_result('Chelsea', 2017)"
   ]
  },
  {
   "cell_type": "code",
   "execution_count": 20,
   "metadata": {},
   "outputs": [
    {
     "data": {
      "text/html": [
       "<div>\n",
       "<style scoped>\n",
       "    .dataframe tbody tr th:only-of-type {\n",
       "        vertical-align: middle;\n",
       "    }\n",
       "\n",
       "    .dataframe tbody tr th {\n",
       "        vertical-align: top;\n",
       "    }\n",
       "\n",
       "    .dataframe thead th {\n",
       "        text-align: right;\n",
       "    }\n",
       "</style>\n",
       "<table border=\"1\" class=\"dataframe\">\n",
       "  <thead>\n",
       "    <tr style=\"text-align: right;\">\n",
       "      <th></th>\n",
       "      <th>id</th>\n",
       "      <th>datetime</th>\n",
       "      <th>result</th>\n",
       "      <th>team</th>\n",
       "      <th>team_xG</th>\n",
       "      <th>team_score</th>\n",
       "      <th>team_conced</th>\n",
       "      <th>home</th>\n",
       "      <th>opponent</th>\n",
       "      <th>oppo_xG</th>\n",
       "      <th>oppo_score</th>\n",
       "      <th>oppo_conced</th>\n",
       "      <th>oppo_home</th>\n",
       "    </tr>\n",
       "  </thead>\n",
       "  <tbody>\n",
       "    <tr>\n",
       "      <th>0</th>\n",
       "      <td>7123</td>\n",
       "      <td>2017-08-12 15:00:00</td>\n",
       "      <td>l</td>\n",
       "      <td>Chelsea</td>\n",
       "      <td>1.35651</td>\n",
       "      <td>2</td>\n",
       "      <td>3</td>\n",
       "      <td>0</td>\n",
       "      <td>Burnley</td>\n",
       "      <td>0.564237</td>\n",
       "      <td>3</td>\n",
       "      <td>2</td>\n",
       "      <td>1</td>\n",
       "    </tr>\n",
       "    <tr>\n",
       "      <th>1</th>\n",
       "      <td>7137</td>\n",
       "      <td>2017-08-20 16:00:00</td>\n",
       "      <td>w</td>\n",
       "      <td>Chelsea</td>\n",
       "      <td>0.834423</td>\n",
       "      <td>2</td>\n",
       "      <td>1</td>\n",
       "      <td>1</td>\n",
       "      <td>Tottenham</td>\n",
       "      <td>0.72428</td>\n",
       "      <td>1</td>\n",
       "      <td>2</td>\n",
       "      <td>1</td>\n",
       "    </tr>\n",
       "    <tr>\n",
       "      <th>2</th>\n",
       "      <td>7140</td>\n",
       "      <td>2017-08-27 13:30:00</td>\n",
       "      <td>w</td>\n",
       "      <td>Chelsea</td>\n",
       "      <td>1.16991</td>\n",
       "      <td>2</td>\n",
       "      <td>0</td>\n",
       "      <td>0</td>\n",
       "      <td>Everton</td>\n",
       "      <td>0.326655</td>\n",
       "      <td>0</td>\n",
       "      <td>2</td>\n",
       "      <td>1</td>\n",
       "    </tr>\n",
       "    <tr>\n",
       "      <th>3</th>\n",
       "      <td>7151</td>\n",
       "      <td>2017-09-09 15:00:00</td>\n",
       "      <td>w</td>\n",
       "      <td>Chelsea</td>\n",
       "      <td>1.03943</td>\n",
       "      <td>2</td>\n",
       "      <td>1</td>\n",
       "      <td>1</td>\n",
       "      <td>Leicester</td>\n",
       "      <td>1.34903</td>\n",
       "      <td>1</td>\n",
       "      <td>2</td>\n",
       "      <td>1</td>\n",
       "    </tr>\n",
       "    <tr>\n",
       "      <th>4</th>\n",
       "      <td>7167</td>\n",
       "      <td>2017-09-17 13:30:00</td>\n",
       "      <td>d</td>\n",
       "      <td>Chelsea</td>\n",
       "      <td>0.762129</td>\n",
       "      <td>0</td>\n",
       "      <td>0</td>\n",
       "      <td>0</td>\n",
       "      <td>Arsenal</td>\n",
       "      <td>1.42208</td>\n",
       "      <td>0</td>\n",
       "      <td>0</td>\n",
       "      <td>1</td>\n",
       "    </tr>\n",
       "  </tbody>\n",
       "</table>\n",
       "</div>"
      ],
      "text/plain": [
       "     id             datetime result     team   team_xG team_score team_conced  \\\n",
       "0  7123  2017-08-12 15:00:00      l  Chelsea   1.35651          2           3   \n",
       "1  7137  2017-08-20 16:00:00      w  Chelsea  0.834423          2           1   \n",
       "2  7140  2017-08-27 13:30:00      w  Chelsea   1.16991          2           0   \n",
       "3  7151  2017-09-09 15:00:00      w  Chelsea   1.03943          2           1   \n",
       "4  7167  2017-09-17 13:30:00      d  Chelsea  0.762129          0           0   \n",
       "\n",
       "   home   opponent   oppo_xG oppo_score oppo_conced  oppo_home  \n",
       "0     0    Burnley  0.564237          3           2          1  \n",
       "1     1  Tottenham   0.72428          1           2          1  \n",
       "2     0    Everton  0.326655          0           2          1  \n",
       "3     1  Leicester   1.34903          1           2          1  \n",
       "4     0    Arsenal   1.42208          0           0          1  "
      ]
     },
     "execution_count": 20,
     "metadata": {},
     "output_type": "execute_result"
    }
   ],
   "source": [
    "df = Constrcut_df_from_results(data)\n",
    "df.head()"
   ]
  },
  {
   "cell_type": "code",
   "execution_count": 11,
   "metadata": {},
   "outputs": [],
   "source": [
    "def get_current_rank(end_date, team, opponent, start_date, year):\n",
    "    table = get_current_rank_data('EPL', year, start_date= start_date, end_date=end_date)\n",
    "    data = pd.DataFrame(table[1:], columns=table[0])\n",
    "    rank = data.loc[data['Team'] == team].index.to_list()[0] + 1\n",
    "    opponent_rank = data.loc[data['Team'] == opponent].index.to_list()[0] + 1\n",
    "    return rank, opponent_rank\n",
    "\n",
    "def minus_one_day(dt):\n",
    "    date = datetime.datetime.strptime(dt, '%Y-%m-%d') - datetime.timedelta(days = 1)\n",
    "    return datetime.datetime.strftime(date,\"%Y-%m-%d\")"
   ]
  },
  {
   "cell_type": "code",
   "execution_count": 13,
   "metadata": {},
   "outputs": [
    {
     "data": {
      "text/plain": [
       "(4, 6)"
      ]
     },
     "execution_count": 13,
     "metadata": {},
     "output_type": "execute_result"
    }
   ],
   "source": [
    "get_current_rank('2017-10-01', 'Chelsea', 'Burnley', '2017-8-11', '2017')"
   ]
  },
  {
   "cell_type": "code",
   "execution_count": null,
   "metadata": {},
   "outputs": [],
   "source": [
    "/Users/marceloyou/Downloads/E0-1.csv"
   ]
  }
 ],
 "metadata": {
  "kernelspec": {
   "display_name": "Python 3.8.3 ('base')",
   "language": "python",
   "name": "python3"
  },
  "language_info": {
   "codemirror_mode": {
    "name": "ipython",
    "version": 3
   },
   "file_extension": ".py",
   "mimetype": "text/x-python",
   "name": "python",
   "nbconvert_exporter": "python",
   "pygments_lexer": "ipython3",
   "version": "3.8.3"
  },
  "orig_nbformat": 4,
  "vscode": {
   "interpreter": {
    "hash": "7e054332bb878e6c7a8ab84d1793dee32c944ca71a69ba55db971c318fecff48"
   }
  }
 },
 "nbformat": 4,
 "nbformat_minor": 2
}
